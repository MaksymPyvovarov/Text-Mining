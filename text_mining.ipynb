{
 "cells": [
  {
   "cell_type": "markdown",
   "id": "78bfc96d",
   "metadata": {},
   "source": [
    "### Import packages"
   ]
  },
  {
   "cell_type": "code",
   "execution_count": 62,
   "id": "c35b17c4",
   "metadata": {},
   "outputs": [],
   "source": [
    "import os\n",
    "import json\n",
    "import string\n",
    "import pandas as pd\n",
    "from nltk.stem import PorterStemmer\n",
    "from nltk.tokenize import word_tokenize\n",
    "from nltk.corpus import PlaintextCorpusReader, stopwords\n",
    "from sklearn.feature_extraction.text import CountVectorizer, TfidfVectorizer"
   ]
  },
  {
   "cell_type": "markdown",
   "id": "6e059f86",
   "metadata": {},
   "source": [
    "### Create documents corpus"
   ]
  },
  {
   "cell_type": "code",
   "execution_count": null,
   "id": "9d14d6b7",
   "metadata": {},
   "outputs": [],
   "source": [
    "corpus_dir = \"./Literature-original\"\n",
    "corpus = PlaintextCorpusReader(corpus_dir, \".*\\.txt\")\n",
    "files_names = corpus.fileids()\n",
    "files_names"
   ]
  },
  {
   "cell_type": "markdown",
   "id": "dd08345c",
   "metadata": {},
   "source": [
    "### Corpus documents proprocessing"
   ]
  },
  {
   "cell_type": "code",
   "execution_count": null,
   "id": "f342c6c5",
   "metadata": {},
   "outputs": [],
   "source": [
    "documents = {}\n",
    "for file_name in files_names:\n",
    "    documents[file_name] = corpus.raw(file_name)\n",
    "print(json.dumps(documents, indent=4, ensure_ascii=False))"
   ]
  },
  {
   "cell_type": "code",
   "execution_count": null,
   "id": "6dfdf115",
   "metadata": {},
   "outputs": [],
   "source": [
    "lengths = {}\n",
    "for file_name in documents:\n",
    "    lengths[file_name] = {\n",
    "        \"pre\": len(word_tokenize(documents[file_name]))\n",
    "    }\n",
    "print(json.dumps(lengths, indent=4, ensure_ascii=False))"
   ]
  },
  {
   "cell_type": "code",
   "execution_count": null,
   "id": "3715e9de",
   "metadata": {},
   "outputs": [],
   "source": [
    "ps = PorterStemmer()"
   ]
  },
  {
   "cell_type": "code",
   "execution_count": null,
   "id": "4d8ab71a",
   "metadata": {},
   "outputs": [],
   "source": [
    "for file_name in documents:\n",
    "    documents[file_name] = documents[file_name].lower()\n",
    "    documents[file_name] = \"\".join([char for char in documents[file_name] if char not in string.punctuation])\n",
    "    documents[file_name] = \"\".join([char for char in documents[file_name] if not char.isdigit()])\n",
    "    documents[file_name] = \" \".join([ps.stem(word) for word in word_tokenize(documents[file_name])])\n",
    "    documents[file_name] = \" \".join([word for word in word_tokenize(documents[file_name]) if word not in list(stopwords.words('english'))])\n",
    "\n",
    "print(json.dumps(documents, indent=4, ensure_ascii=False))"
   ]
  },
  {
   "cell_type": "code",
   "execution_count": null,
   "id": "94098d2c",
   "metadata": {},
   "outputs": [],
   "source": [
    "for file_name in documents:\n",
    "    lengths[file_name]['post'] = len(word_tokenize(documents[file_name]))\n",
    "print(json.dumps(lengths, indent=4, ensure_ascii=False))"
   ]
  },
  {
   "cell_type": "code",
   "execution_count": null,
   "id": "6fb9b0da",
   "metadata": {},
   "outputs": [],
   "source": [
    "lengths = pd.DataFrame.from_dict(lengths, orient='index')"
   ]
  },
  {
   "cell_type": "code",
   "execution_count": null,
   "id": "7dbcc1c4",
   "metadata": {},
   "outputs": [],
   "source": [
    "lengths['diff'] = lengths['pre']-lengths['post']\n",
    "lengths['pct'] = lengths['diff']/lengths['pre']\n",
    "lengths"
   ]
  },
  {
   "cell_type": "markdown",
   "id": "32a72b35",
   "metadata": {},
   "source": [
    "### Create frequency matrix"
   ]
  },
  {
   "cell_type": "code",
   "execution_count": null,
   "id": "66ac4d66",
   "metadata": {},
   "outputs": [],
   "source": [
    "docs = pd.DataFrame.from_dict(documents, orient=\"index\")\n",
    "docs.columns = ['content']\n",
    "docs"
   ]
  },
  {
   "cell_type": "code",
   "execution_count": 57,
   "id": "8efc1bab",
   "metadata": {},
   "outputs": [
    {
     "data": {
      "text/plain": [
       "<Compressed Sparse Row sparse matrix of dtype 'int64'\n",
       "\twith 6019 stored elements and shape (23, 2503)>"
      ]
     },
     "execution_count": 57,
     "metadata": {},
     "output_type": "execute_result"
    }
   ],
   "source": [
    "cv = CountVectorizer()\n",
    "matrix_tf = cv.fit_transform(docs['content'])\n",
    "matrix_tf"
   ]
  },
  {
   "cell_type": "code",
   "execution_count": 59,
   "id": "5bf18626",
   "metadata": {},
   "outputs": [
    {
     "data": {
      "text/plain": [
       "0.8954472024874498"
      ]
     },
     "execution_count": 59,
     "metadata": {},
     "output_type": "execute_result"
    }
   ],
   "source": [
    "sparsity_tf = 1-(matrix_tf.getnnz()/(matrix_tf.shape[0]*matrix_tf.shape[1]))\n",
    "sparsity_tf"
   ]
  },
  {
   "cell_type": "code",
   "execution_count": 60,
   "id": "c537002b",
   "metadata": {},
   "outputs": [
    {
     "data": {
      "text/plain": [
       "<Compressed Sparse Row sparse matrix of dtype 'float64'\n",
       "\twith 6019 stored elements and shape (23, 2503)>"
      ]
     },
     "execution_count": 60,
     "metadata": {},
     "output_type": "execute_result"
    }
   ],
   "source": [
    "tv = TfidfVectorizer()\n",
    "matrix_tfidf = tv.fit_transform(docs['content'])\n",
    "matrix_tfidf"
   ]
  },
  {
   "cell_type": "code",
   "execution_count": 61,
   "id": "7173e819",
   "metadata": {},
   "outputs": [
    {
     "data": {
      "text/plain": [
       "0.8954472024874498"
      ]
     },
     "execution_count": 61,
     "metadata": {},
     "output_type": "execute_result"
    }
   ],
   "source": [
    "sparsity_tfidf = 1-(matrix_tfidf.getnnz()/(matrix_tfidf.shape[0]*matrix_tfidf.shape[1]))\n",
    "sparsity_tfidf"
   ]
  },
  {
   "cell_type": "markdown",
   "id": "9da47746",
   "metadata": {},
   "source": [
    "### Directories for results"
   ]
  },
  {
   "cell_type": "code",
   "execution_count": 63,
   "id": "b2ff8e4b",
   "metadata": {},
   "outputs": [],
   "source": [
    "if not os.path.exists(\"./wodclouds\"):\n",
    "    os.mkdir(\"./wodclouds\")\n",
    "if not os.path.exists(\"./topic_modelling\"):\n",
    "    os.mkdir(\"./topic_modelling\")\n",
    "if not os.path.exists(\"./topic_modelling/topics\"):\n",
    "    os.mkdir(\"./topic_modelling/topics\")\n",
    "if not os.path.exists(\"./topic_modelling/documents\"):\n",
    "    os.mkdir(\"./topic_modelling/documents\")\n",
    "if not os.path.exists(\"./clustering\"):\n",
    "    os.mkdir(\"./clustering\")\n",
    "if not os.path.exists(\"./ngrams\"):\n",
    "    os.mkdir(\"./ngrams\")"
   ]
  },
  {
   "cell_type": "markdown",
   "id": "db02a424",
   "metadata": {},
   "source": [
    "### Worldclouds"
   ]
  },
  {
   "cell_type": "markdown",
   "id": "ea9292b1",
   "metadata": {},
   "source": [
    "### Topic modeling"
   ]
  },
  {
   "cell_type": "markdown",
   "id": "cf504eb6",
   "metadata": {},
   "source": [
    "### Clustering"
   ]
  },
  {
   "cell_type": "markdown",
   "id": "9d616322",
   "metadata": {},
   "source": [
    "### N-grams"
   ]
  }
 ],
 "metadata": {
  "kernelspec": {
   "display_name": ".venv",
   "language": "python",
   "name": "python3"
  },
  "language_info": {
   "codemirror_mode": {
    "name": "ipython",
    "version": 3
   },
   "file_extension": ".py",
   "mimetype": "text/x-python",
   "name": "python",
   "nbconvert_exporter": "python",
   "pygments_lexer": "ipython3",
   "version": "3.11.4"
  }
 },
 "nbformat": 4,
 "nbformat_minor": 5
}
