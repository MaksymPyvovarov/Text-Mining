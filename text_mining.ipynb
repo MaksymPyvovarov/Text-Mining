{
 "cells": [
  {
   "cell_type": "markdown",
   "id": "78bfc96d",
   "metadata": {},
   "source": [
    "### Import packages"
   ]
  },
  {
   "cell_type": "code",
   "execution_count": null,
   "id": "c35b17c4",
   "metadata": {},
   "outputs": [],
   "source": [
    "from nltk.corpus import PlaintextCorpusReader"
   ]
  },
  {
   "cell_type": "markdown",
   "id": "6e059f86",
   "metadata": {},
   "source": [
    "### Create documents corpus"
   ]
  },
  {
   "cell_type": "code",
   "execution_count": null,
   "id": "9d14d6b7",
   "metadata": {},
   "outputs": [],
   "source": [
    "corpus_dir = \"./Literature-original\"\n",
    "courpus = PlaintextCorpusReader(corpus_dir, \".*\\.txt\")\n",
    "files_names = corpus.fileids()\n",
    "files_names"
   ]
  }
 ],
 "metadata": {
  "language_info": {
   "name": "python"
  }
 },
 "nbformat": 4,
 "nbformat_minor": 5
}
